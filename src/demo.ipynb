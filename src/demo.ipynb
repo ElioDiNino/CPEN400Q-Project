{
  "cells": [
    {
      "cell_type": "markdown",
      "metadata": {},
      "source": [
        "# Time Series Forecasting Model Evaluation"
      ]
    },
    {
      "cell_type": "markdown",
      "metadata": {},
      "source": [
        "### Common Imports"
      ]
    },
    {
      "cell_type": "code",
      "execution_count": null,
      "metadata": {},
      "outputs": [],
      "source": [
        "from sklearn.model_selection import train_test_split\n",
        "\n",
        "from helpers import *\n",
        "from abstract import ForecastingMethod\n",
        "import numpy as np"
      ]
    },
    {
      "cell_type": "markdown",
      "metadata": {},
      "source": [
        "### Shared Parameters"
      ]
    },
    {
      "cell_type": "code",
      "execution_count": null,
      "metadata": {},
      "outputs": [],
      "source": [
        "TRAIN_TEST_RATIO = 8 / 10\n",
        "START_DATE = date(2020, 1, 1)"
      ]
    },
    {
      "cell_type": "markdown",
      "metadata": {},
      "source": [
        "### Training & Test Data Preparation"
      ]
    },
    {
      "cell_type": "code",
      "execution_count": null,
      "metadata": {},
      "outputs": [],
      "source": [
        "# Preprocess the data: apply normalization and scaling like the paper does\n",
        "new_filepath, min_value, max_value, initial_value = (\n",
        "    ForecastingMethod.preprocess_data(\n",
        "        filepath=\"../data/paper-data.csv\",\n",
        "        difference=False,\n",
        "        scale_to_range=True,\n",
        "        training_data_cutoff=TRAIN_TEST_RATIO,\n",
        "    )\n",
        ")\n",
        "\n",
        "# Load the data\n",
        "X, y = ForecastingMethod.load_data(filepath=new_filepath)\n",
        "train_test_split_index = int(len(X) * TRAIN_TEST_RATIO)\n",
        "\n",
        "# Split the data into training and testing sets\n",
        "X_train, X_test, y_train, y_test = train_test_split(\n",
        "    X, y, test_size=(1 - TRAIN_TEST_RATIO), shuffle=False\n",
        ")"
      ]
    },
    {
      "cell_type": "markdown",
      "metadata": {},
      "source": [
        "# Linear Regression"
      ]
    },
    {
      "cell_type": "code",
      "execution_count": null,
      "metadata": {},
      "outputs": [],
      "source": [
        "from linear_regression import LinearRegression"
      ]
    },
    {
      "cell_type": "markdown",
      "metadata": {},
      "source": [
        "### Training - Model Creation & Weight Finding"
      ]
    },
    {
      "cell_type": "code",
      "execution_count": null,
      "metadata": {},
      "outputs": [],
      "source": [
        "models = [\n",
        "    (\n",
        "        \"Linear Regression\",\n",
        "        LinearRegression(\n",
        "            regularization=None, fit_intercept=False, cv_folds=None\n",
        "        ),\n",
        "    ),\n",
        "    (\n",
        "        \"Linear Regression with Y-Intercept\",\n",
        "        LinearRegression(\n",
        "            regularization=None, fit_intercept=True, cv_folds=None\n",
        "        ),\n",
        "    ),\n",
        "    (\n",
        "        \"L1 Regularized Linear Regression\",\n",
        "        LinearRegression(\n",
        "            regularization=\"l1\",\n",
        "            fit_intercept=True,\n",
        "            cv_folds=5,\n",
        "            alphas=[0.0001, 0.001, 0.01, 0.1, 0.3, 0.5, 1, 5, 10, 100],\n",
        "        ),\n",
        "    ),\n",
        "    (\n",
        "        \"L2 Regularized Linear Regression\",\n",
        "        LinearRegression(\n",
        "            regularization=\"l2\",\n",
        "            fit_intercept=True,\n",
        "            cv_folds=5,\n",
        "            alphas=[\n",
        "                0.0001,\n",
        "                0.001,\n",
        "                0.01,\n",
        "                0.1,\n",
        "                0.3,\n",
        "                0.5,\n",
        "                1,\n",
        "                2,\n",
        "                3,\n",
        "                4,\n",
        "                5,\n",
        "                6,\n",
        "                7,\n",
        "                10,\n",
        "                100,\n",
        "            ],\n",
        "        ),\n",
        "    ),\n",
        "]\n",
        "\n",
        "for name, model in models:\n",
        "    model.train(X_train, y_train)"
      ]
    },
    {
      "cell_type": "markdown",
      "metadata": {},
      "source": [
        "### Prediction - Timeseries Forecasting & Evaluation"
      ]
    },
    {
      "cell_type": "code",
      "execution_count": null,
      "metadata": {},
      "outputs": [],
      "source": [
        "for name, model in models:\n",
        "    print(\"#\" * 50)\n",
        "    print(name)\n",
        "    print(\"#\" * 50)\n",
        "    print(f\"Training Loss (MSE): {model.score(X_train, y_train)}\")\n",
        "    print(f\"Testing Loss (MSE): {model.score(X_test, y_test)}\")\n",
        "    if \"alpha\" in model.model.get_params():\n",
        "        print(f\"Best Alpha: {model.model.get_params()[\"alpha\"]}\")"
      ]
    },
    {
      "cell_type": "code",
      "execution_count": null,
      "metadata": {},
      "outputs": [],
      "source": [
        "for name, model in models:\n",
        "    # Post process X\n",
        "    X_pred_scaled = ForecastingMethod.post_process_data(\n",
        "        model.predict(X),\n",
        "        min_value,\n",
        "        max_value,\n",
        "        initial_value,\n",
        "        scale_to_range=True,\n",
        "    )\n",
        "    # Post process y\n",
        "    y_scaled = ForecastingMethod.post_process_data(\n",
        "        y, min_value, max_value, initial_value, scale_to_range=True\n",
        "    )\n",
        "\n",
        "    plot_sales_growth(\n",
        "        START_DATE,\n",
        "        y_scaled,\n",
        "        X_pred_scaled,\n",
        "        pred_linestyle=\"-.\",\n",
        "        pred_color=\"lime\",\n",
        "        title=name,\n",
        "        train_test_split=train_test_split_index,\n",
        "    )"
      ]
    },
    {
      "cell_type": "markdown",
      "metadata": {},
      "source": [
        "# PQC"
      ]
    },
    {
      "cell_type": "code",
      "execution_count": null,
      "metadata": {},
      "outputs": [],
      "source": [
        "from pqc import PQC"
      ]
    },
    {
      "cell_type": "markdown",
      "metadata": {},
      "source": [
        "### Training - Model Creation & Weight Finding"
      ]
    },
    {
      "cell_type": "code",
      "execution_count": null,
      "metadata": {},
      "outputs": [],
      "source": [
        "N_WIRES = 12\n",
        "N_LAYERS = 2\n",
        "\n",
        "# Create L-BFGS-B model\n",
        "pqc_model_lbfgsb = PQC(\n",
        "    n_wires=N_WIRES, n_layers=N_LAYERS, optimizer=\"L-BFGS-B\"\n",
        ")\n",
        "# Create the COBYLA model\n",
        "pqc_model_cobyla = PQC(n_wires=N_WIRES, n_layers=N_LAYERS, optimizer=\"COBYLA\")\n",
        "\n",
        "# load weights - since training takes 30+ minutes\n",
        "pqc_model_lbfgsb.load_weights(\"../weights/pqc_lbfgsb.npy\")\n",
        "pqc_model_cobyla.load_weights(\"../weights/pqc_cobyla.npy\")"
      ]
    },
    {
      "cell_type": "markdown",
      "metadata": {},
      "source": [
        "### Prediction - Timeseries Forecasting & Evaluation"
      ]
    },
    {
      "cell_type": "code",
      "execution_count": null,
      "metadata": {},
      "outputs": [],
      "source": [
        "# Predict the dataset as whole\n",
        "predictions_L = pqc_model_lbfgsb.predict(X)\n",
        "predictions_C = pqc_model_cobyla.predict(X)\n",
        "\n",
        "# Compute the training loss with processed data\n",
        "train_mse_L = np.mean((predictions_L[:train_test_split_index] - y_train) ** 2)\n",
        "train_mse_C = np.mean((predictions_C[:train_test_split_index] - y_train) ** 2)\n",
        "\n",
        "# Compute testing loss\n",
        "test_mse_L = np.mean((predictions_L[train_test_split_index:] - y_test) ** 2)\n",
        "test_mse_C = np.mean((predictions_C[train_test_split_index:] - y_test) ** 2)\n",
        "\n",
        "print(\"#\" * 50)\n",
        "print(\"PQC with L-BFGS-B Optimizer\")\n",
        "print(\"#\" * 50)\n",
        "print(f\"Training Loss (MSE): {train_mse_L}\")\n",
        "print(f\"Test Loss (MSE): {test_mse_L}\")\n",
        "print(\"#\" * 50)\n",
        "print(\"PQC with COBYLA Optimizer\")\n",
        "print(\"#\" * 50)\n",
        "print(f\"Training Loss (MSE): {train_mse_C}\")\n",
        "print(f\"Test Loss (MSE): {test_mse_C}\")"
      ]
    },
    {
      "cell_type": "code",
      "execution_count": null,
      "metadata": {},
      "outputs": [],
      "source": [
        "# Post process the predictions\n",
        "predictions_L_scaled = ForecastingMethod.post_process_data(\n",
        "    predictions_L, min_value, max_value, initial_value, scale_to_range=True\n",
        ")\n",
        "predictions_C_scaled = ForecastingMethod.post_process_data(\n",
        "    predictions_C, min_value, max_value, initial_value, scale_to_range=True\n",
        ")\n",
        "# Post process y\n",
        "y_scaled = ForecastingMethod.post_process_data(\n",
        "    y, min_value, max_value, initial_value, scale_to_range=True\n",
        ")\n",
        "\n",
        "# Plot the results\n",
        "plot_sales_growth(\n",
        "    START_DATE,\n",
        "    y_scaled,\n",
        "    predictions_L_scaled,\n",
        "    pred_linestyle=\"--\",\n",
        "    pred_color=\"blue\",\n",
        "    title=\"PQC L-BFGS-B\",\n",
        "    train_test_split=train_test_split_index,\n",
        ")\n",
        "plot_sales_growth(\n",
        "    START_DATE,\n",
        "    y_scaled,\n",
        "    predictions_C_scaled,\n",
        "    pred_linestyle=\"--\",\n",
        "    pred_color=\"red\",\n",
        "    title=\"PQC COBYLA\",\n",
        "    train_test_split=train_test_split_index,\n",
        ")"
      ]
    },
    {
      "cell_type": "markdown",
      "metadata": {},
      "source": [
        "# Neural Network"
      ]
    },
    {
      "cell_type": "code",
      "execution_count": null,
      "metadata": {},
      "outputs": [],
      "source": [
        "from neural_network import NeuralNetwork"
      ]
    },
    {
      "cell_type": "markdown",
      "metadata": {},
      "source": [
        "### Training - Model Creation & Weight Finding"
      ]
    },
    {
      "cell_type": "code",
      "execution_count": null,
      "metadata": {},
      "outputs": [],
      "source": [
        "nn = NeuralNetwork()\n",
        "nn.train(X_train, y_train)"
      ]
    },
    {
      "cell_type": "markdown",
      "metadata": {},
      "source": [
        "### Prediction - Timeseries Forecasting & Evaluation"
      ]
    },
    {
      "cell_type": "code",
      "execution_count": null,
      "metadata": {},
      "outputs": [],
      "source": [
        "predictions = nn.predict(X)\n",
        "\n",
        "train_mse = np.mean((predictions[:train_test_split_index] - y_train) ** 2)\n",
        "test_mse = np.mean((predictions[train_test_split_index:] - y_test) ** 2)\n",
        "\n",
        "print(f\"Training Loss (MSE): {train_mse}\")\n",
        "print(f\"Testing Loss (MSE): {test_mse}\")"
      ]
    },
    {
      "cell_type": "code",
      "execution_count": null,
      "metadata": {},
      "outputs": [],
      "source": [
        "# Post process X\n",
        "X_pred_scaled = ForecastingMethod.post_process_data(\n",
        "    predictions, min_value, max_value, initial_value, scale_to_range=True\n",
        ")\n",
        "# Post process y\n",
        "y_scaled = ForecastingMethod.post_process_data(\n",
        "    y, min_value, max_value, initial_value, scale_to_range=True\n",
        ")\n",
        "\n",
        "plot_sales_growth(\n",
        "    START_DATE,\n",
        "    y_scaled,\n",
        "    X_pred_scaled,\n",
        "    pred_linestyle=\":\",\n",
        "    pred_color=\"firebrick\",\n",
        "    title=\"Neural Network\",\n",
        "    train_test_split=train_test_split_index,\n",
        ")"
      ]
    }
  ],
  "metadata": {
    "kernelspec": {
      "display_name": ".venv",
      "language": "python",
      "name": "python3"
    },
    "language_info": {
      "codemirror_mode": {
        "name": "ipython",
        "version": 3
      },
      "file_extension": ".py",
      "mimetype": "text/x-python",
      "name": "python",
      "nbconvert_exporter": "python",
      "pygments_lexer": "ipython3",
      "version": "3.12.2"
    }
  },
  "nbformat": 4,
  "nbformat_minor": 2
}
